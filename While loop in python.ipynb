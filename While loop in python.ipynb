{
 "cells": [
  {
   "cell_type": "markdown",
   "id": "511cebcc",
   "metadata": {},
   "source": [
    "PYTHON WHILE LOOP\n",
    "Python while loop is used to execute a block of statements repeatedly until a given condition is satisfied.\n",
    "and when the condition becomes false, the line immediately after the loop in the program is executed .\n",
    "while loops falls under the indefinite iteration category .indefinite iteration means that the number of times the loop is executed is not specified explicitly on advance.\n",
    "\n",
    "syntax:_\n",
    "\n",
    "while expression:\n",
    "    statement(s)"
   ]
  },
  {
   "cell_type": "markdown",
   "id": "8f2671f2",
   "metadata": {},
   "source": [
    "Example:1-\n"
   ]
  },
  {
   "cell_type": "code",
   "execution_count": 2,
   "id": "9b04fe2e",
   "metadata": {},
   "outputs": [
    {
     "name": "stdout",
     "output_type": "stream",
     "text": [
      "ashok teja\n",
      "ashok teja\n",
      "ashok teja\n"
     ]
    }
   ],
   "source": [
    "count = 0\n",
    "\n",
    "while (count<3):\n",
    "    count = count+1\n",
    "    \n",
    "    print('ashok teja')"
   ]
  },
  {
   "cell_type": "markdown",
   "id": "a362867a",
   "metadata": {},
   "source": [
    "Python while loop with list\n",
    "Example:-2"
   ]
  },
  {
   "cell_type": "code",
   "execution_count": 7,
   "id": "b960faa2",
   "metadata": {},
   "outputs": [
    {
     "name": "stdout",
     "output_type": "stream",
     "text": [
      "4\n",
      "3\n",
      "2\n",
      "1\n"
     ]
    }
   ],
   "source": [
    "list1 = [1,2,3,4]\n",
    "\n",
    "while list1:\n",
    "    print(list1.pop())"
   ]
  },
  {
   "cell_type": "code",
   "execution_count": 6,
   "id": "1b711b98",
   "metadata": {},
   "outputs": [
    {
     "name": "stdout",
     "output_type": "stream",
     "text": [
      "x is currently:  0\n",
      " x is still less than 10, adding 1 to x\n",
      "x is currently:  1\n",
      " x is still less than 10, adding 1 to x\n",
      "x is currently:  2\n",
      " x is still less than 10, adding 1 to x\n",
      "x is currently:  3\n",
      " x is still less than 10, adding 1 to x\n",
      "x is currently:  4\n",
      " x is still less than 10, adding 1 to x\n",
      "x is currently:  5\n",
      " x is still less than 10, adding 1 to x\n",
      "x is currently:  6\n",
      " x is still less than 10, adding 1 to x\n",
      "x is currently:  7\n",
      " x is still less than 10, adding 1 to x\n",
      "x is currently:  8\n",
      " x is still less than 10, adding 1 to x\n",
      "x is currently:  9\n",
      " x is still less than 10, adding 1 to x\n"
     ]
    }
   ],
   "source": [
    "x = 0\n",
    "\n",
    "while x < 10:\n",
    "    print('x is currently: ',x)\n",
    "    print(' x is still less than 10, adding 1 to x')\n",
    "    x+=1\n"
   ]
  },
  {
   "cell_type": "markdown",
   "id": "6f7d4ab7",
   "metadata": {},
   "source": [
    "lets run this same code using the else condition for the control over the statements"
   ]
  },
  {
   "cell_type": "code",
   "execution_count": 8,
   "id": "69681fb2",
   "metadata": {},
   "outputs": [
    {
     "name": "stdout",
     "output_type": "stream",
     "text": [
      "x is currently:  0\n",
      " x is still less than 10, adding 1 to x\n",
      "x is currently:  1\n",
      " x is still less than 10, adding 1 to x\n",
      "x is currently:  2\n",
      " x is still less than 10, adding 1 to x\n",
      "x is currently:  3\n",
      " x is still less than 10, adding 1 to x\n",
      "x is currently:  4\n",
      " x is still less than 10, adding 1 to x\n",
      "x is currently:  5\n",
      " x is still less than 10, adding 1 to x\n",
      "x is currently:  6\n",
      " x is still less than 10, adding 1 to x\n",
      "x is currently:  7\n",
      " x is still less than 10, adding 1 to x\n",
      "x is currently:  8\n",
      " x is still less than 10, adding 1 to x\n",
      "x is currently:  9\n",
      " x is still less than 10, adding 1 to x\n",
      "All Done!\n"
     ]
    }
   ],
   "source": [
    "x = 0\n",
    "\n",
    "while x < 10:\n",
    "    print('x is currently: ',x)\n",
    "    print(' x is still less than 10, adding 1 to x')\n",
    "    x+=1\n",
    "    \n",
    "else:\n",
    "    print('All Done!')\n"
   ]
  },
  {
   "cell_type": "markdown",
   "id": "0291b5be",
   "metadata": {},
   "source": [
    "BREAK,CONTINUE,PASS:-\n",
    "\n",
    "\n",
    "We can use break, continue, and pass statements in our loops to add additional functionality for various cases. The three statements are defined by:\n",
    "\n",
    "break: Breaks out of the current closest enclosing loop.\n",
    "\n",
    "continue: Goes to the top of the closest enclosing loop.\n",
    "\n",
    "pass: Does nothing at all.\n",
    "\n",
    "\n",
    "SYNTAX:-\n",
    "\n",
    "while test: \n",
    "    code statement\n",
    "    if test: \n",
    "        break\n",
    "    if test: \n",
    "        continue \n",
    "else:\n",
    "\n",
    "break and continue statements can appear anywhere inside the loop’s body, but we will usually put them further nested in conjunction with an if statement to perform an action based on some condition.\n",
    "\n",
    "Let's go ahead and look at some examples!\n",
    "\n"
   ]
  },
  {
   "cell_type": "markdown",
   "id": "29356551",
   "metadata": {},
   "source": [
    "CONTINUE EXAMPLE"
   ]
  },
  {
   "cell_type": "code",
   "execution_count": 9,
   "id": "5b1d3d7b",
   "metadata": {},
   "outputs": [
    {
     "name": "stdout",
     "output_type": "stream",
     "text": [
      "x is currently:  0\n",
      " x is still less than 10, adding 1 to x\n",
      "continuing...\n",
      "x is currently:  1\n",
      " x is still less than 10, adding 1 to x\n",
      "continuing...\n",
      "x is currently:  2\n",
      " x is still less than 10, adding 1 to x\n",
      "x==3\n",
      "x is currently:  3\n",
      " x is still less than 10, adding 1 to x\n",
      "continuing...\n",
      "x is currently:  4\n",
      " x is still less than 10, adding 1 to x\n",
      "continuing...\n",
      "x is currently:  5\n",
      " x is still less than 10, adding 1 to x\n",
      "continuing...\n",
      "x is currently:  6\n",
      " x is still less than 10, adding 1 to x\n",
      "continuing...\n",
      "x is currently:  7\n",
      " x is still less than 10, adding 1 to x\n",
      "continuing...\n",
      "x is currently:  8\n",
      " x is still less than 10, adding 1 to x\n",
      "continuing...\n",
      "x is currently:  9\n",
      " x is still less than 10, adding 1 to x\n",
      "continuing...\n"
     ]
    }
   ],
   "source": [
    "x = 0\n",
    "\n",
    "while x < 10:\n",
    "    print('x is currently: ',x)\n",
    "    print(' x is still less than 10, adding 1 to x')\n",
    "    x+=1\n",
    "    if x==3:\n",
    "        print('x==3')\n",
    "    else:\n",
    "        print('continuing...')\n",
    "        continue\n"
   ]
  },
  {
   "cell_type": "markdown",
   "id": "5e5dddbc",
   "metadata": {},
   "source": [
    "BREAK EXAMPLE"
   ]
  },
  {
   "cell_type": "markdown",
   "id": "409ab2a4",
   "metadata": {},
   "source": [
    "now put an break statement at x == 3 and then try to execute."
   ]
  },
  {
   "cell_type": "code",
   "execution_count": 10,
   "id": "f584905e",
   "metadata": {},
   "outputs": [
    {
     "name": "stdout",
     "output_type": "stream",
     "text": [
      "x is currently:  0\n",
      " x is still less than 10, adding 1 to x\n",
      "continuing...\n",
      "x is currently:  1\n",
      " x is still less than 10, adding 1 to x\n",
      "continuing...\n",
      "x is currently:  2\n",
      " x is still less than 10, adding 1 to x\n",
      "breaking because x == 3\n"
     ]
    }
   ],
   "source": [
    "x = 0\n",
    "\n",
    "while x < 10:\n",
    "    print('x is currently: ',x)\n",
    "    print(' x is still less than 10, adding 1 to x')\n",
    "    x+=1\n",
    "    if x==3:\n",
    "        print('breaking because x == 3')\n",
    "        break\n",
    "    else:\n",
    "        print('continuing...')\n",
    "        continue\n"
   ]
  },
  {
   "cell_type": "markdown",
   "id": "f96ee29a",
   "metadata": {},
   "source": [
    "PASS EXAMPLE:-"
   ]
  },
  {
   "cell_type": "code",
   "execution_count": null,
   "id": "8949d3a3",
   "metadata": {},
   "outputs": [],
   "source": [
    "a = 10\n",
    "b = 20\n",
    "\n",
    "while(a<b):\n",
    "    pass\n",
    "else:\n",
    "    print(\"b<a\")"
   ]
  },
  {
   "cell_type": "code",
   "execution_count": null,
   "id": "2363ce93",
   "metadata": {},
   "outputs": [],
   "source": []
  }
 ],
 "metadata": {
  "kernelspec": {
   "display_name": "Python 3 (ipykernel)",
   "language": "python",
   "name": "python3"
  },
  "language_info": {
   "codemirror_mode": {
    "name": "ipython",
    "version": 3
   },
   "file_extension": ".py",
   "mimetype": "text/x-python",
   "name": "python",
   "nbconvert_exporter": "python",
   "pygments_lexer": "ipython3",
   "version": "3.9.7"
  }
 },
 "nbformat": 4,
 "nbformat_minor": 5
}
